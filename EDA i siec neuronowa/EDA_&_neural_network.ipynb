{
 "cells": [
  {
   "cell_type": "markdown",
   "metadata": {},
   "source": [
    "Polecenie\n",
    "\n",
    "1. Wejdż na (https://www.kaggle.com/c/titanic/overview) i zapoznaj się ze zbiorem danych dotyczących Tytanic’a.\n",
    "2. Dokonaj EDA biorąc pod uwagę wskazówki oraz pytania dotyczące badań eksploracyjnych.\n",
    "    - Czy wszystkie zmienne są potrzebne? Warto spojrzeć na korelację pomiędzy daną cechą, a docelową etykietą, np.: zaobserwować średnią przeżywalność w stosunku do klasy biletu: \n",
    "    df[['Pclass', 'Survived']].groupby(['Pclass'], as_index=False).mean()\n",
    "    - Czy możemy z istniejącej cechy stworzyć inną (feature engineering)?\n",
    "    - Co ze zmiennymi kategorycznymi? Czy wymagają konwersji?\n",
    "    - Ile jest brakujących danych i co z nimi zrobić? Odrzucić kolumnę? Kilka wierszów? missingno.matrix(X_train, figsize=(30, 10)) Może warto na podstawie innych zmiennych z imputować wartości?\n",
    "3. Naucz sieć neuronową przy użyciu wybranej biblioteki (np.: sklearn). \n",
    "4. Dokonaj predykcji. Zbiór testowy nie zawiera labeli stąd, aby poeksperymentować z modelem użyj techniki cross-validation.\n",
    "5. Przetestuj różne parametry sieci neuronowej: liczbę warstw, liczbę neuronów w warstwach, funkcje aktywacji oraz algorytm optymalizacji.\n",
    "6. Wynik zawrzyj w sprawozdaniu (dobry wynik: ~80% (można więcej?)\n"
   ]
  },
  {
   "cell_type": "code",
   "execution_count": 7,
   "metadata": {},
   "outputs": [],
   "source": [
    "import pandas as pd\n",
    "import numpy as np\n",
    "import matplotlib.pyplot as plt\n",
    "import seaborn as sns\n",
    "%matplotlib inline"
   ]
  },
  {
   "cell_type": "code",
   "execution_count": 8,
   "metadata": {},
   "outputs": [],
   "source": [
    "titanic = pd.read_csv(\"C:\\\\Users\\\\PC COMPUTER\\\\Desktop\\\\Metody uczenia maszynowego\\\\Laboratoria\\\\Lab4\\\\titanic.csv\", header=0)"
   ]
  },
  {
   "cell_type": "code",
   "execution_count": 9,
   "metadata": {},
   "outputs": [
    {
     "data": {
      "text/html": [
       "<div>\n",
       "<style scoped>\n",
       "    .dataframe tbody tr th:only-of-type {\n",
       "        vertical-align: middle;\n",
       "    }\n",
       "\n",
       "    .dataframe tbody tr th {\n",
       "        vertical-align: top;\n",
       "    }\n",
       "\n",
       "    .dataframe thead th {\n",
       "        text-align: right;\n",
       "    }\n",
       "</style>\n",
       "<table border=\"1\" class=\"dataframe\">\n",
       "  <thead>\n",
       "    <tr style=\"text-align: right;\">\n",
       "      <th></th>\n",
       "      <th>PassengerId</th>\n",
       "      <th>Survived</th>\n",
       "      <th>Pclass</th>\n",
       "      <th>Name</th>\n",
       "      <th>Sex</th>\n",
       "      <th>Age</th>\n",
       "      <th>SibSp</th>\n",
       "      <th>Parch</th>\n",
       "      <th>Ticket</th>\n",
       "      <th>Fare</th>\n",
       "      <th>Cabin</th>\n",
       "      <th>Embarked</th>\n",
       "    </tr>\n",
       "  </thead>\n",
       "  <tbody>\n",
       "    <tr>\n",
       "      <td>0</td>\n",
       "      <td>1</td>\n",
       "      <td>0</td>\n",
       "      <td>3</td>\n",
       "      <td>Braund, Mr. Owen Harris</td>\n",
       "      <td>male</td>\n",
       "      <td>22.0</td>\n",
       "      <td>1</td>\n",
       "      <td>0</td>\n",
       "      <td>A/5 21171</td>\n",
       "      <td>7.2500</td>\n",
       "      <td>NaN</td>\n",
       "      <td>S</td>\n",
       "    </tr>\n",
       "    <tr>\n",
       "      <td>1</td>\n",
       "      <td>2</td>\n",
       "      <td>1</td>\n",
       "      <td>1</td>\n",
       "      <td>Cumings, Mrs. John Bradley (Florence Briggs Th...</td>\n",
       "      <td>female</td>\n",
       "      <td>38.0</td>\n",
       "      <td>1</td>\n",
       "      <td>0</td>\n",
       "      <td>PC 17599</td>\n",
       "      <td>71.2833</td>\n",
       "      <td>C85</td>\n",
       "      <td>C</td>\n",
       "    </tr>\n",
       "    <tr>\n",
       "      <td>2</td>\n",
       "      <td>3</td>\n",
       "      <td>1</td>\n",
       "      <td>3</td>\n",
       "      <td>Heikkinen, Miss. Laina</td>\n",
       "      <td>female</td>\n",
       "      <td>26.0</td>\n",
       "      <td>0</td>\n",
       "      <td>0</td>\n",
       "      <td>STON/O2. 3101282</td>\n",
       "      <td>7.9250</td>\n",
       "      <td>NaN</td>\n",
       "      <td>S</td>\n",
       "    </tr>\n",
       "    <tr>\n",
       "      <td>3</td>\n",
       "      <td>4</td>\n",
       "      <td>1</td>\n",
       "      <td>1</td>\n",
       "      <td>Futrelle, Mrs. Jacques Heath (Lily May Peel)</td>\n",
       "      <td>female</td>\n",
       "      <td>35.0</td>\n",
       "      <td>1</td>\n",
       "      <td>0</td>\n",
       "      <td>113803</td>\n",
       "      <td>53.1000</td>\n",
       "      <td>C123</td>\n",
       "      <td>S</td>\n",
       "    </tr>\n",
       "    <tr>\n",
       "      <td>4</td>\n",
       "      <td>5</td>\n",
       "      <td>0</td>\n",
       "      <td>3</td>\n",
       "      <td>Allen, Mr. William Henry</td>\n",
       "      <td>male</td>\n",
       "      <td>35.0</td>\n",
       "      <td>0</td>\n",
       "      <td>0</td>\n",
       "      <td>373450</td>\n",
       "      <td>8.0500</td>\n",
       "      <td>NaN</td>\n",
       "      <td>S</td>\n",
       "    </tr>\n",
       "    <tr>\n",
       "      <td>5</td>\n",
       "      <td>6</td>\n",
       "      <td>0</td>\n",
       "      <td>3</td>\n",
       "      <td>Moran, Mr. James</td>\n",
       "      <td>male</td>\n",
       "      <td>NaN</td>\n",
       "      <td>0</td>\n",
       "      <td>0</td>\n",
       "      <td>330877</td>\n",
       "      <td>8.4583</td>\n",
       "      <td>NaN</td>\n",
       "      <td>Q</td>\n",
       "    </tr>\n",
       "    <tr>\n",
       "      <td>6</td>\n",
       "      <td>7</td>\n",
       "      <td>0</td>\n",
       "      <td>1</td>\n",
       "      <td>McCarthy, Mr. Timothy J</td>\n",
       "      <td>male</td>\n",
       "      <td>54.0</td>\n",
       "      <td>0</td>\n",
       "      <td>0</td>\n",
       "      <td>17463</td>\n",
       "      <td>51.8625</td>\n",
       "      <td>E46</td>\n",
       "      <td>S</td>\n",
       "    </tr>\n",
       "    <tr>\n",
       "      <td>7</td>\n",
       "      <td>8</td>\n",
       "      <td>0</td>\n",
       "      <td>3</td>\n",
       "      <td>Palsson, Master. Gosta Leonard</td>\n",
       "      <td>male</td>\n",
       "      <td>2.0</td>\n",
       "      <td>3</td>\n",
       "      <td>1</td>\n",
       "      <td>349909</td>\n",
       "      <td>21.0750</td>\n",
       "      <td>NaN</td>\n",
       "      <td>S</td>\n",
       "    </tr>\n",
       "    <tr>\n",
       "      <td>8</td>\n",
       "      <td>9</td>\n",
       "      <td>1</td>\n",
       "      <td>3</td>\n",
       "      <td>Johnson, Mrs. Oscar W (Elisabeth Vilhelmina Berg)</td>\n",
       "      <td>female</td>\n",
       "      <td>27.0</td>\n",
       "      <td>0</td>\n",
       "      <td>2</td>\n",
       "      <td>347742</td>\n",
       "      <td>11.1333</td>\n",
       "      <td>NaN</td>\n",
       "      <td>S</td>\n",
       "    </tr>\n",
       "    <tr>\n",
       "      <td>9</td>\n",
       "      <td>10</td>\n",
       "      <td>1</td>\n",
       "      <td>2</td>\n",
       "      <td>Nasser, Mrs. Nicholas (Adele Achem)</td>\n",
       "      <td>female</td>\n",
       "      <td>14.0</td>\n",
       "      <td>1</td>\n",
       "      <td>0</td>\n",
       "      <td>237736</td>\n",
       "      <td>30.0708</td>\n",
       "      <td>NaN</td>\n",
       "      <td>C</td>\n",
       "    </tr>\n",
       "  </tbody>\n",
       "</table>\n",
       "</div>"
      ],
      "text/plain": [
       "   PassengerId  Survived  Pclass  \\\n",
       "0            1         0       3   \n",
       "1            2         1       1   \n",
       "2            3         1       3   \n",
       "3            4         1       1   \n",
       "4            5         0       3   \n",
       "5            6         0       3   \n",
       "6            7         0       1   \n",
       "7            8         0       3   \n",
       "8            9         1       3   \n",
       "9           10         1       2   \n",
       "\n",
       "                                                Name     Sex   Age  SibSp  \\\n",
       "0                            Braund, Mr. Owen Harris    male  22.0      1   \n",
       "1  Cumings, Mrs. John Bradley (Florence Briggs Th...  female  38.0      1   \n",
       "2                             Heikkinen, Miss. Laina  female  26.0      0   \n",
       "3       Futrelle, Mrs. Jacques Heath (Lily May Peel)  female  35.0      1   \n",
       "4                           Allen, Mr. William Henry    male  35.0      0   \n",
       "5                                   Moran, Mr. James    male   NaN      0   \n",
       "6                            McCarthy, Mr. Timothy J    male  54.0      0   \n",
       "7                     Palsson, Master. Gosta Leonard    male   2.0      3   \n",
       "8  Johnson, Mrs. Oscar W (Elisabeth Vilhelmina Berg)  female  27.0      0   \n",
       "9                Nasser, Mrs. Nicholas (Adele Achem)  female  14.0      1   \n",
       "\n",
       "   Parch            Ticket     Fare Cabin Embarked  \n",
       "0      0         A/5 21171   7.2500   NaN        S  \n",
       "1      0          PC 17599  71.2833   C85        C  \n",
       "2      0  STON/O2. 3101282   7.9250   NaN        S  \n",
       "3      0            113803  53.1000  C123        S  \n",
       "4      0            373450   8.0500   NaN        S  \n",
       "5      0            330877   8.4583   NaN        Q  \n",
       "6      0             17463  51.8625   E46        S  \n",
       "7      1            349909  21.0750   NaN        S  \n",
       "8      2            347742  11.1333   NaN        S  \n",
       "9      0            237736  30.0708   NaN        C  "
      ]
     },
     "execution_count": 9,
     "metadata": {},
     "output_type": "execute_result"
    }
   ],
   "source": [
    "\n",
    "titanic.head(10)"
   ]
  },
  {
   "cell_type": "markdown",
   "metadata": {},
   "source": [
    "***\n",
    "***\n",
    "# EDA\n"
   ]
  },
  {
   "cell_type": "code",
   "execution_count": 10,
   "metadata": {},
   "outputs": [
    {
     "name": "stdout",
     "output_type": "stream",
     "text": [
      "<class 'pandas.core.frame.DataFrame'>\n",
      "RangeIndex: 891 entries, 0 to 890\n",
      "Data columns (total 12 columns):\n",
      "PassengerId    891 non-null int64\n",
      "Survived       891 non-null int64\n",
      "Pclass         891 non-null int64\n",
      "Name           891 non-null object\n",
      "Sex            891 non-null object\n",
      "Age            714 non-null float64\n",
      "SibSp          891 non-null int64\n",
      "Parch          891 non-null int64\n",
      "Ticket         891 non-null object\n",
      "Fare           891 non-null float64\n",
      "Cabin          204 non-null object\n",
      "Embarked       889 non-null object\n",
      "dtypes: float64(2), int64(5), object(5)\n",
      "memory usage: 83.7+ KB\n"
     ]
    }
   ],
   "source": [
    "titanic.info()"
   ]
  },
  {
   "cell_type": "markdown",
   "metadata": {},
   "source": [
    "***\n",
    "***\n",
    "Ile jest brakujących danych?\n"
   ]
  },
  {
   "cell_type": "code",
   "execution_count": 11,
   "metadata": {
    "scrolled": true
   },
   "outputs": [
    {
     "data": {
      "text/plain": [
       "PassengerId      0\n",
       "Survived         0\n",
       "Pclass           0\n",
       "Name             0\n",
       "Sex              0\n",
       "Age            177\n",
       "SibSp            0\n",
       "Parch            0\n",
       "Ticket           0\n",
       "Fare             0\n",
       "Cabin          687\n",
       "Embarked         2\n",
       "dtype: int64"
      ]
     },
     "execution_count": 11,
     "metadata": {},
     "output_type": "execute_result"
    }
   ],
   "source": [
    "titanic.isnull().sum()"
   ]
  },
  {
   "cell_type": "markdown",
   "metadata": {},
   "source": [
    "***\n",
    "***\n",
    "Liczba osób, które przeżyły i zginęły z podziałem na płeć"
   ]
  },
  {
   "cell_type": "code",
   "execution_count": 12,
   "metadata": {},
   "outputs": [
    {
     "data": {
      "text/plain": [
       "Survived  Sex   \n",
       "0         female     81\n",
       "          male      468\n",
       "1         female    233\n",
       "          male      109\n",
       "Name: Survived, dtype: int64"
      ]
     },
     "execution_count": 12,
     "metadata": {},
     "output_type": "execute_result"
    }
   ],
   "source": [
    "titanic.groupby(['Survived', 'Sex'])['Survived'].count()"
   ]
  },
  {
   "cell_type": "code",
   "execution_count": 13,
   "metadata": {},
   "outputs": [
    {
     "data": {
      "image/png": "[encoded data removed]",
      "text/plain": [
       "<Figure size 432x288 with 1 Axes>"
      ]
     },
     "metadata": {
      "needs_background": "light"
     },
     "output_type": "display_data"
    }
   ],
   "source": [
    "titanic[['Sex','Survived']].groupby(['Sex']).mean().plot.bar()\n",
    "sns.countplot('Sex',hue='Survived',data=titanic,)\n",
    "plt.show()"
   ]
  },
  {
   "cell_type": "markdown",
   "metadata": {},
   "source": [
    "***\n",
    "***\n",
    "Liczba osób, które zginęły lub przeżyły z podziałem typ klasy biletu"
   ]
  },
  {
   "cell_type": "code",
   "execution_count": 14,
   "metadata": {},
   "outputs": [
    {
     "data": {
      "text/plain": [
       "<matplotlib.axes._subplots.AxesSubplot at 0x191f0e96fc8>"
      ]
     },
     "execution_count": 14,
     "metadata": {},
     "output_type": "execute_result"
    },
    {
     "data": {
      "image/png": "[encoded data removed]",
      "text/plain": [
       "<Figure size 432x288 with 1 Axes>"
      ]
     },
     "metadata": {},
     "output_type": "display_data"
    }
   ],
   "source": [
    "sns.set_style('whitegrid')\n",
    "sns.countplot(x='Survived',hue='Pclass',data=titanic)"
   ]
  },
  {
   "cell_type": "markdown",
   "metadata": {},
   "source": [
    "***\n",
    "***\n",
    "Z poniższego diagramu można wywnioskować, że najwięcej pasażerów było z przedziału wiekowego 20-30 lat"
   ]
  },
  {
   "cell_type": "code",
   "execution_count": 15,
   "metadata": {},
   "outputs": [
    {
     "data": {
      "text/plain": [
       "<matplotlib.axes._subplots.AxesSubplot at 0x191f12abe08>"
      ]
     },
     "execution_count": 15,
     "metadata": {},
     "output_type": "execute_result"
    },
    {
     "data": {
      "image/png": "[encoded data removed]",
      "text/plain": [
       "<Figure size 432x288 with 1 Axes>"
      ]
     },
     "metadata": {},
     "output_type": "display_data"
    }
   ],
   "source": [
    "sns.distplot(titanic['Age'].dropna(), kde=False, bins=40)"
   ]
  },
  {
   "cell_type": "markdown",
   "metadata": {},
   "source": [
    "***\n",
    "***\n",
    "Przeżywalność związana z klasę biletu"
   ]
  },
  {
   "cell_type": "code",
   "execution_count": 16,
   "metadata": {},
   "outputs": [
    {
     "data": {
      "image/png": "[encoded data removed]",
      "text/plain": [
       "<Figure size 432x288 with 1 Axes>"
      ]
     },
     "metadata": {},
     "output_type": "display_data"
    }
   ],
   "source": [
    "sns.countplot('Pclass', hue='Survived', data=titanic)\n",
    "plt.title('Pclass: Sruvived vs Dead')\n",
    "plt.show()"
   ]
  },
  {
   "cell_type": "markdown",
   "metadata": {},
   "source": [
    "***\n",
    "***\n",
    "Z poniższego diagramu można zauważyć, że przeżywalność kobiet w klasie 1 była na poziomie 95=97%\n",
    "Natomiast przeżywalność mężczyzn w tej samej klasie wynosi już około 37-38%\n",
    "\n",
    "Zatem kobiety mają znacznie większą szansę na przeżycie ze względu, że są prioryzowane podczas akcji ratunkowej."
   ]
  },
  {
   "cell_type": "code",
   "execution_count": 17,
   "metadata": {},
   "outputs": [
    {
     "name": "stderr",
     "output_type": "stream",
     "text": [
      "C:\\Users\\PC COMPUTER\\Anaconda3\\lib\\site-packages\\seaborn\\categorical.py:3666: UserWarning: The `factorplot` function has been renamed to `catplot`. The original name will be removed in a future release. Please update your code. Note that the default `kind` in `factorplot` (`'point'`) has changed `'strip'` in `catplot`.\n",
      "  warnings.warn(msg)\n"
     ]
    },
    {
     "data": {
      "image/png": "[encoded data removed]",
      "text/plain": [
       "<Figure size 426.125x360 with 1 Axes>"
      ]
     },
     "metadata": {},
     "output_type": "display_data"
    }
   ],
   "source": [
    "sns.factorplot('Pclass', 'Survived', hue='Sex', data=titanic)\n",
    "plt.show()"
   ]
  },
  {
   "cell_type": "markdown",
   "metadata": {},
   "source": [
    "***\n",
    "***\n",
    "Z poniższego diagramu możemy zaobserwować, że w \n",
    "- klasie 1 prioryzowani byli ludzie w przedziale wiekowym 40-60 lat\n",
    "- klasie 2 prioryzowani byli ludzie w przedziale wiekowym 20-40 lat\n",
    "- klasie 3 prioryzowani byli ludzie w przedziale wiekowym 20-30 lat"
   ]
  },
  {
   "cell_type": "code",
   "execution_count": 18,
   "metadata": {},
   "outputs": [
    {
     "data": {
      "image/png": "[encoded data removed]",
      "text/plain": [
       "<Figure size 1296x576 with 2 Axes>"
      ]
     },
     "metadata": {},
     "output_type": "display_data"
    }
   ],
   "source": [
    "f,ax=plt.subplots(1,2,figsize=(18,8))\n",
    "sns.violinplot('Pclass','Age',hue='Survived',data=titanic,split=True,ax=ax[0])\n",
    "ax[0].set_title('PClass and Age vs Survived')\n",
    "ax[0].set_yticks(range(0,110,10))\n",
    "sns.violinplot(\"Sex\",\"Age\", hue=\"Survived\", data=titanic,split=True,ax=ax[1])\n",
    "ax[1].set_title('Sex and Age vs Survived')\n",
    "ax[1].set_yticks(range(0,110,10))\n",
    "plt.show()"
   ]
  },
  {
   "cell_type": "markdown",
   "metadata": {},
   "source": [
    "***\n",
    "***\n",
    "Z poniższych diagramów możemy zaobserwować, że najwięcej zginęło osób w wieku 25 lat a przeżyło najwięcej w przedziale wiekowym 20-25"
   ]
  },
  {
   "cell_type": "code",
   "execution_count": 19,
   "metadata": {},
   "outputs": [
    {
     "data": {
      "image/png": "[encoded data removed]",
      "text/plain": [
       "<Figure size 1440x1440 with 2 Axes>"
      ]
     },
     "metadata": {},
     "output_type": "display_data"
    }
   ],
   "source": [
    "f,ax=plt.subplots(1,2,figsize=(20,20))\n",
    "titanic[titanic['Survived']==0].Age.plot.hist(ax=ax[0],bins=20,edgecolor='black',color='red')\n",
    "ax[0].set_title('Survived = 0')\n",
    "x1=list(range(0,85,5))\n",
    "ax[0].set_xticks(x1)\n",
    "titanic[titanic['Survived']==1].Age.plot.hist(ax=ax[1],bins=20,edgecolor='black',color='green')\n",
    "x2=list(range(0,85,5))\n",
    "ax[1].set_xticks(x2)\n",
    "ax[1].set_title('Survived = 1')\n",
    "plt.show()"
   ]
  },
  {
   "cell_type": "markdown",
   "metadata": {},
   "source": [
    "***\n",
    "***\n",
    "Z poniższej tabeli możemy zauważyć, że posiadanie członków rodziny na statku przyczyniało się negatywnie na przeżywalność.\n",
    "Rodziny powyżej 5 członków posiadały zerową przeżywalność."
   ]
  },
  {
   "cell_type": "code",
   "execution_count": 20,
   "metadata": {},
   "outputs": [
    {
     "data": {
      "text/html": [
       "<style  type=\"text/css\" >\n",
       "    #T_099c6b40_6257_11eb_8435_88d7f6c7a64brow0_col0 {\n",
       "            background-color:  #008066;\n",
       "            color:  #f1f1f1;\n",
       "        }    #T_099c6b40_6257_11eb_8435_88d7f6c7a64brow0_col1 {\n",
       "            background-color:  #008066;\n",
       "            color:  #f1f1f1;\n",
       "        }    #T_099c6b40_6257_11eb_8435_88d7f6c7a64brow1_col0 {\n",
       "            background-color:  #c4e266;\n",
       "            color:  #000000;\n",
       "        }    #T_099c6b40_6257_11eb_8435_88d7f6c7a64brow1_col1 {\n",
       "            background-color:  #77bb66;\n",
       "            color:  #000000;\n",
       "        }    #T_099c6b40_6257_11eb_8435_88d7f6c7a64brow2_col0 {\n",
       "            background-color:  #f9fc66;\n",
       "            color:  #000000;\n",
       "        }    #T_099c6b40_6257_11eb_8435_88d7f6c7a64brow2_col1 {\n",
       "            background-color:  #f0f866;\n",
       "            color:  #000000;\n",
       "        }    #T_099c6b40_6257_11eb_8435_88d7f6c7a64brow3_col0 {\n",
       "            background-color:  #fbfd66;\n",
       "            color:  #000000;\n",
       "        }    #T_099c6b40_6257_11eb_8435_88d7f6c7a64brow3_col1 {\n",
       "            background-color:  #fbfd66;\n",
       "            color:  #000000;\n",
       "        }    #T_099c6b40_6257_11eb_8435_88d7f6c7a64brow4_col0 {\n",
       "            background-color:  #f9fc66;\n",
       "            color:  #000000;\n",
       "        }    #T_099c6b40_6257_11eb_8435_88d7f6c7a64brow4_col1 {\n",
       "            background-color:  #fcfe66;\n",
       "            color:  #000000;\n",
       "        }    #T_099c6b40_6257_11eb_8435_88d7f6c7a64brow5_col0 {\n",
       "            background-color:  #ffff66;\n",
       "            color:  #000000;\n",
       "        }    #T_099c6b40_6257_11eb_8435_88d7f6c7a64brow5_col1 {\n",
       "            background-color:  #ffff66;\n",
       "            color:  #000000;\n",
       "        }    #T_099c6b40_6257_11eb_8435_88d7f6c7a64brow6_col0 {\n",
       "            background-color:  #fefe66;\n",
       "            color:  #000000;\n",
       "        }    #T_099c6b40_6257_11eb_8435_88d7f6c7a64brow6_col1 {\n",
       "            background-color:  #ffff66;\n",
       "            color:  #000000;\n",
       "        }</style><table id=\"T_099c6b40_6257_11eb_8435_88d7f6c7a64b\" ><thead>    <tr>        <th class=\"index_name level0\" >Survived</th>        <th class=\"col_heading level0 col0\" >0</th>        <th class=\"col_heading level0 col1\" >1</th>    </tr>    <tr>        <th class=\"index_name level0\" >SibSp</th>        <th class=\"blank\" ></th>        <th class=\"blank\" ></th>    </tr></thead><tbody>\n",
       "                <tr>\n",
       "                        <th id=\"T_099c6b40_6257_11eb_8435_88d7f6c7a64blevel0_row0\" class=\"row_heading level0 row0\" >0</th>\n",
       "                        <td id=\"T_099c6b40_6257_11eb_8435_88d7f6c7a64brow0_col0\" class=\"data row0 col0\" >398</td>\n",
       "                        <td id=\"T_099c6b40_6257_11eb_8435_88d7f6c7a64brow0_col1\" class=\"data row0 col1\" >210</td>\n",
       "            </tr>\n",
       "            <tr>\n",
       "                        <th id=\"T_099c6b40_6257_11eb_8435_88d7f6c7a64blevel0_row1\" class=\"row_heading level0 row1\" >1</th>\n",
       "                        <td id=\"T_099c6b40_6257_11eb_8435_88d7f6c7a64brow1_col0\" class=\"data row1 col0\" >97</td>\n",
       "                        <td id=\"T_099c6b40_6257_11eb_8435_88d7f6c7a64brow1_col1\" class=\"data row1 col1\" >112</td>\n",
       "            </tr>\n",
       "            <tr>\n",
       "                        <th id=\"T_099c6b40_6257_11eb_8435_88d7f6c7a64blevel0_row2\" class=\"row_heading level0 row2\" >2</th>\n",
       "                        <td id=\"T_099c6b40_6257_11eb_8435_88d7f6c7a64brow2_col0\" class=\"data row2 col0\" >15</td>\n",
       "                        <td id=\"T_099c6b40_6257_11eb_8435_88d7f6c7a64brow2_col1\" class=\"data row2 col1\" >13</td>\n",
       "            </tr>\n",
       "            <tr>\n",
       "                        <th id=\"T_099c6b40_6257_11eb_8435_88d7f6c7a64blevel0_row3\" class=\"row_heading level0 row3\" >3</th>\n",
       "                        <td id=\"T_099c6b40_6257_11eb_8435_88d7f6c7a64brow3_col0\" class=\"data row3 col0\" >12</td>\n",
       "                        <td id=\"T_099c6b40_6257_11eb_8435_88d7f6c7a64brow3_col1\" class=\"data row3 col1\" >4</td>\n",
       "            </tr>\n",
       "            <tr>\n",
       "                        <th id=\"T_099c6b40_6257_11eb_8435_88d7f6c7a64blevel0_row4\" class=\"row_heading level0 row4\" >4</th>\n",
       "                        <td id=\"T_099c6b40_6257_11eb_8435_88d7f6c7a64brow4_col0\" class=\"data row4 col0\" >15</td>\n",
       "                        <td id=\"T_099c6b40_6257_11eb_8435_88d7f6c7a64brow4_col1\" class=\"data row4 col1\" >3</td>\n",
       "            </tr>\n",
       "            <tr>\n",
       "                        <th id=\"T_099c6b40_6257_11eb_8435_88d7f6c7a64blevel0_row5\" class=\"row_heading level0 row5\" >5</th>\n",
       "                        <td id=\"T_099c6b40_6257_11eb_8435_88d7f6c7a64brow5_col0\" class=\"data row5 col0\" >5</td>\n",
       "                        <td id=\"T_099c6b40_6257_11eb_8435_88d7f6c7a64brow5_col1\" class=\"data row5 col1\" >0</td>\n",
       "            </tr>\n",
       "            <tr>\n",
       "                        <th id=\"T_099c6b40_6257_11eb_8435_88d7f6c7a64blevel0_row6\" class=\"row_heading level0 row6\" >8</th>\n",
       "                        <td id=\"T_099c6b40_6257_11eb_8435_88d7f6c7a64brow6_col0\" class=\"data row6 col0\" >7</td>\n",
       "                        <td id=\"T_099c6b40_6257_11eb_8435_88d7f6c7a64brow6_col1\" class=\"data row6 col1\" >0</td>\n",
       "            </tr>\n",
       "    </tbody></table>"
      ],
      "text/plain": [
       "<pandas.io.formats.style.Styler at 0x191f15f5088>"
      ]
     },
     "execution_count": 20,
     "metadata": {},
     "output_type": "execute_result"
    }
   ],
   "source": [
    "pd.crosstab([titanic.SibSp],titanic.Survived).style.background_gradient('summer_r')"
   ]
  },
  {
   "cell_type": "markdown",
   "metadata": {},
   "source": [
    "***\n",
    "***\n",
    "Największą szansę na przeżycie posiadały osoby z jednym członkiem rodziny"
   ]
  },
  {
   "cell_type": "code",
   "execution_count": 22,
   "metadata": {},
   "outputs": [
    {
     "data": {
      "image/png": "[encoded data removed]",
      "text/plain": [
       "<Figure size 432x288 with 1 Axes>"
      ]
     },
     "metadata": {},
     "output_type": "display_data"
    }
   ],
   "source": [
    "sns.barplot('SibSp','Survived', data=titanic)\n",
    "plt.show()"
   ]
  },
  {
   "cell_type": "markdown",
   "metadata": {},
   "source": [
    "***\n",
    "***\n",
    "Rodziny składające się z 4 członków i więcej znajdowały się w klasie 3"
   ]
  },
  {
   "cell_type": "code",
   "execution_count": 23,
   "metadata": {},
   "outputs": [
    {
     "data": {
      "text/html": [
       "<style  type=\"text/css\" >\n",
       "    #T_13e2b3e4_6257_11eb_9c71_88d7f6c7a64brow0_col0 {\n",
       "            background-color:  #008066;\n",
       "            color:  #f1f1f1;\n",
       "        }    #T_13e2b3e4_6257_11eb_9c71_88d7f6c7a64brow0_col1 {\n",
       "            background-color:  #008066;\n",
       "            color:  #f1f1f1;\n",
       "        }    #T_13e2b3e4_6257_11eb_9c71_88d7f6c7a64brow0_col2 {\n",
       "            background-color:  #008066;\n",
       "            color:  #f1f1f1;\n",
       "        }    #T_13e2b3e4_6257_11eb_9c71_88d7f6c7a64brow1_col0 {\n",
       "            background-color:  #7bbd66;\n",
       "            color:  #000000;\n",
       "        }    #T_13e2b3e4_6257_11eb_9c71_88d7f6c7a64brow1_col1 {\n",
       "            background-color:  #8ac466;\n",
       "            color:  #000000;\n",
       "        }    #T_13e2b3e4_6257_11eb_9c71_88d7f6c7a64brow1_col2 {\n",
       "            background-color:  #c6e266;\n",
       "            color:  #000000;\n",
       "        }    #T_13e2b3e4_6257_11eb_9c71_88d7f6c7a64brow2_col0 {\n",
       "            background-color:  #f6fa66;\n",
       "            color:  #000000;\n",
       "        }    #T_13e2b3e4_6257_11eb_9c71_88d7f6c7a64brow2_col1 {\n",
       "            background-color:  #eef666;\n",
       "            color:  #000000;\n",
       "        }    #T_13e2b3e4_6257_11eb_9c71_88d7f6c7a64brow2_col2 {\n",
       "            background-color:  #f8fc66;\n",
       "            color:  #000000;\n",
       "        }    #T_13e2b3e4_6257_11eb_9c71_88d7f6c7a64brow3_col0 {\n",
       "            background-color:  #fafc66;\n",
       "            color:  #000000;\n",
       "        }    #T_13e2b3e4_6257_11eb_9c71_88d7f6c7a64brow3_col1 {\n",
       "            background-color:  #fdfe66;\n",
       "            color:  #000000;\n",
       "        }    #T_13e2b3e4_6257_11eb_9c71_88d7f6c7a64brow3_col2 {\n",
       "            background-color:  #fafc66;\n",
       "            color:  #000000;\n",
       "        }    #T_13e2b3e4_6257_11eb_9c71_88d7f6c7a64brow4_col0 {\n",
       "            background-color:  #ffff66;\n",
       "            color:  #000000;\n",
       "        }    #T_13e2b3e4_6257_11eb_9c71_88d7f6c7a64brow4_col1 {\n",
       "            background-color:  #ffff66;\n",
       "            color:  #000000;\n",
       "        }    #T_13e2b3e4_6257_11eb_9c71_88d7f6c7a64brow4_col2 {\n",
       "            background-color:  #f6fa66;\n",
       "            color:  #000000;\n",
       "        }    #T_13e2b3e4_6257_11eb_9c71_88d7f6c7a64brow5_col0 {\n",
       "            background-color:  #ffff66;\n",
       "            color:  #000000;\n",
       "        }    #T_13e2b3e4_6257_11eb_9c71_88d7f6c7a64brow5_col1 {\n",
       "            background-color:  #ffff66;\n",
       "            color:  #000000;\n",
       "        }    #T_13e2b3e4_6257_11eb_9c71_88d7f6c7a64brow5_col2 {\n",
       "            background-color:  #ffff66;\n",
       "            color:  #000000;\n",
       "        }    #T_13e2b3e4_6257_11eb_9c71_88d7f6c7a64brow6_col0 {\n",
       "            background-color:  #ffff66;\n",
       "            color:  #000000;\n",
       "        }    #T_13e2b3e4_6257_11eb_9c71_88d7f6c7a64brow6_col1 {\n",
       "            background-color:  #ffff66;\n",
       "            color:  #000000;\n",
       "        }    #T_13e2b3e4_6257_11eb_9c71_88d7f6c7a64brow6_col2 {\n",
       "            background-color:  #fefe66;\n",
       "            color:  #000000;\n",
       "        }</style><table id=\"T_13e2b3e4_6257_11eb_9c71_88d7f6c7a64b\" ><thead>    <tr>        <th class=\"index_name level0\" >Pclass</th>        <th class=\"col_heading level0 col0\" >1</th>        <th class=\"col_heading level0 col1\" >2</th>        <th class=\"col_heading level0 col2\" >3</th>    </tr>    <tr>        <th class=\"index_name level0\" >SibSp</th>        <th class=\"blank\" ></th>        <th class=\"blank\" ></th>        <th class=\"blank\" ></th>    </tr></thead><tbody>\n",
       "                <tr>\n",
       "                        <th id=\"T_13e2b3e4_6257_11eb_9c71_88d7f6c7a64blevel0_row0\" class=\"row_heading level0 row0\" >0</th>\n",
       "                        <td id=\"T_13e2b3e4_6257_11eb_9c71_88d7f6c7a64brow0_col0\" class=\"data row0 col0\" >137</td>\n",
       "                        <td id=\"T_13e2b3e4_6257_11eb_9c71_88d7f6c7a64brow0_col1\" class=\"data row0 col1\" >120</td>\n",
       "                        <td id=\"T_13e2b3e4_6257_11eb_9c71_88d7f6c7a64brow0_col2\" class=\"data row0 col2\" >351</td>\n",
       "            </tr>\n",
       "            <tr>\n",
       "                        <th id=\"T_13e2b3e4_6257_11eb_9c71_88d7f6c7a64blevel0_row1\" class=\"row_heading level0 row1\" >1</th>\n",
       "                        <td id=\"T_13e2b3e4_6257_11eb_9c71_88d7f6c7a64brow1_col0\" class=\"data row1 col0\" >71</td>\n",
       "                        <td id=\"T_13e2b3e4_6257_11eb_9c71_88d7f6c7a64brow1_col1\" class=\"data row1 col1\" >55</td>\n",
       "                        <td id=\"T_13e2b3e4_6257_11eb_9c71_88d7f6c7a64brow1_col2\" class=\"data row1 col2\" >83</td>\n",
       "            </tr>\n",
       "            <tr>\n",
       "                        <th id=\"T_13e2b3e4_6257_11eb_9c71_88d7f6c7a64blevel0_row2\" class=\"row_heading level0 row2\" >2</th>\n",
       "                        <td id=\"T_13e2b3e4_6257_11eb_9c71_88d7f6c7a64brow2_col0\" class=\"data row2 col0\" >5</td>\n",
       "                        <td id=\"T_13e2b3e4_6257_11eb_9c71_88d7f6c7a64brow2_col1\" class=\"data row2 col1\" >8</td>\n",
       "                        <td id=\"T_13e2b3e4_6257_11eb_9c71_88d7f6c7a64brow2_col2\" class=\"data row2 col2\" >15</td>\n",
       "            </tr>\n",
       "            <tr>\n",
       "                        <th id=\"T_13e2b3e4_6257_11eb_9c71_88d7f6c7a64blevel0_row3\" class=\"row_heading level0 row3\" >3</th>\n",
       "                        <td id=\"T_13e2b3e4_6257_11eb_9c71_88d7f6c7a64brow3_col0\" class=\"data row3 col0\" >3</td>\n",
       "                        <td id=\"T_13e2b3e4_6257_11eb_9c71_88d7f6c7a64brow3_col1\" class=\"data row3 col1\" >1</td>\n",
       "                        <td id=\"T_13e2b3e4_6257_11eb_9c71_88d7f6c7a64brow3_col2\" class=\"data row3 col2\" >12</td>\n",
       "            </tr>\n",
       "            <tr>\n",
       "                        <th id=\"T_13e2b3e4_6257_11eb_9c71_88d7f6c7a64blevel0_row4\" class=\"row_heading level0 row4\" >4</th>\n",
       "                        <td id=\"T_13e2b3e4_6257_11eb_9c71_88d7f6c7a64brow4_col0\" class=\"data row4 col0\" >0</td>\n",
       "                        <td id=\"T_13e2b3e4_6257_11eb_9c71_88d7f6c7a64brow4_col1\" class=\"data row4 col1\" >0</td>\n",
       "                        <td id=\"T_13e2b3e4_6257_11eb_9c71_88d7f6c7a64brow4_col2\" class=\"data row4 col2\" >18</td>\n",
       "            </tr>\n",
       "            <tr>\n",
       "                        <th id=\"T_13e2b3e4_6257_11eb_9c71_88d7f6c7a64blevel0_row5\" class=\"row_heading level0 row5\" >5</th>\n",
       "                        <td id=\"T_13e2b3e4_6257_11eb_9c71_88d7f6c7a64brow5_col0\" class=\"data row5 col0\" >0</td>\n",
       "                        <td id=\"T_13e2b3e4_6257_11eb_9c71_88d7f6c7a64brow5_col1\" class=\"data row5 col1\" >0</td>\n",
       "                        <td id=\"T_13e2b3e4_6257_11eb_9c71_88d7f6c7a64brow5_col2\" class=\"data row5 col2\" >5</td>\n",
       "            </tr>\n",
       "            <tr>\n",
       "                        <th id=\"T_13e2b3e4_6257_11eb_9c71_88d7f6c7a64blevel0_row6\" class=\"row_heading level0 row6\" >8</th>\n",
       "                        <td id=\"T_13e2b3e4_6257_11eb_9c71_88d7f6c7a64brow6_col0\" class=\"data row6 col0\" >0</td>\n",
       "                        <td id=\"T_13e2b3e4_6257_11eb_9c71_88d7f6c7a64brow6_col1\" class=\"data row6 col1\" >0</td>\n",
       "                        <td id=\"T_13e2b3e4_6257_11eb_9c71_88d7f6c7a64brow6_col2\" class=\"data row6 col2\" >7</td>\n",
       "            </tr>\n",
       "    </tbody></table>"
      ],
      "text/plain": [
       "<pandas.io.formats.style.Styler at 0x191f19b2548>"
      ]
     },
     "execution_count": 23,
     "metadata": {},
     "output_type": "execute_result"
    }
   ],
   "source": [
    "pd.crosstab(titanic.SibSp,titanic.Pclass).style.background_gradient('summer_r')"
   ]
  },
  {
   "cell_type": "markdown",
   "metadata": {},
   "source": [
    "***\n",
    "***\n",
    "# Deep learning"
   ]
  },
  {
   "cell_type": "code",
   "execution_count": 39,
   "metadata": {},
   "outputs": [],
   "source": [
    "from sklearn.neural_network import MLPClassifier \n",
    "from sklearn.model_selection import train_test_split\n",
    "from sklearn.model_selection import KFold\n",
    "from sklearn.model_selection import cross_val_score\n",
    "from sklearn.preprocessing import MinMaxScaler\n",
    "from sklearn.preprocessing import LabelBinarizer, LabelEncoder"
   ]
  },
  {
   "cell_type": "code",
   "execution_count": null,
   "metadata": {},
   "outputs": [],
   "source": []
  },
  {
   "cell_type": "code",
   "execution_count": 63,
   "metadata": {},
   "outputs": [
    {
     "name": "stdout",
     "output_type": "stream",
     "text": [
      "     PassengerId  Pclass  Sex  SibSp  Parch     Fare  Embarked\n",
      "114          115       3    0      0      0  14.4583         2\n",
      "874          875       2    0      1      0  24.0000         2\n",
      "76            77       3    1      0      0   7.8958         1\n",
      "876          877       3    1      0      0   9.8458         1\n",
      "674          675       2    1      0      0   0.0000         1\n",
      "..           ...     ...  ...    ...    ...      ...       ...\n",
      "715          716       3    1      0      0   7.6500         1\n",
      "767          768       3    0      0      0   7.7500         3\n",
      "72            73       2    1      0      0  73.5000         1\n",
      "235          236       3    0      0      0   7.5500         1\n",
      "37            38       3    1      0      0   8.0500         1\n",
      "\n",
      "[623 rows x 7 columns]\n"
     ]
    }
   ],
   "source": [
    "titanic = pd.read_csv(\"C:\\\\Users\\\\PC COMPUTER\\\\Desktop\\\\Metody uczenia maszynowego\\\\Laboratoria\\\\Lab4\\\\titanic.csv\", \n",
    "                      header=0, \n",
    "                      usecols=['PassengerId', 'Pclass', 'Sex', 'SibSp', 'Parch', 'Fare', 'Embarked', 'Survived'])\n",
    "titanic['Sex'] = titanic['Sex'].apply(lambda x: 0 if x=='female' else 1)\n",
    "titanic['Embarked'] = titanic['Embarked'].apply(lambda x: 1 if x=='S' else 2 if x=='C' else 3)\n",
    "# print(titanic)\n",
    "\n",
    "# print(titanic['Ticket'].value_counts())\n",
    "    \n",
    "X = titanic.drop(['Survived'], axis=1)\n",
    "Y = titanic['Survived']\n",
    "\n",
    "X_train, X_test, y_train, y_test = train_test_split(X, Y, test_size=0.3, random_state=1)\n",
    "print(X_train)"
   ]
  },
  {
   "cell_type": "code",
   "execution_count": 64,
   "metadata": {},
   "outputs": [],
   "source": [
    "clf = MLPClassifier(Solver='adam', random_state=1, max_iter=1000).fit(X_train, y_train)"
   ]
  },
  {
   "cell_type": "code",
   "execution_count": 65,
   "metadata": {},
   "outputs": [
    {
     "data": {
      "text/plain": [
       "array([[0.51852828, 0.48147172],\n",
       "       [0.89236653, 0.10763347],\n",
       "       [0.52334245, 0.47665755],\n",
       "       [0.71364138, 0.28635862],\n",
       "       [0.42136573, 0.57863427],\n",
       "       [0.94778101, 0.05221899],\n",
       "       [0.72777912, 0.27222088],\n",
       "       [0.42165712, 0.57834288],\n",
       "       [0.69737831, 0.30262169],\n",
       "       [0.56376396, 0.43623604],\n",
       "       [0.96193502, 0.03806498],\n",
       "       [0.49806461, 0.50193539],\n",
       "       [0.78234269, 0.21765731],\n",
       "       [0.82388781, 0.17611219],\n",
       "       [0.58179898, 0.41820102],\n",
       "       [0.75265245, 0.24734755],\n",
       "       [0.94227534, 0.05772466],\n",
       "       [0.9509838 , 0.0490162 ],\n",
       "       [0.88582452, 0.11417548],\n",
       "       [0.64277179, 0.35722821],\n",
       "       [0.91860407, 0.08139593],\n",
       "       [0.86524636, 0.13475364],\n",
       "       [0.25119391, 0.74880609],\n",
       "       [0.5821773 , 0.4178227 ],\n",
       "       [0.60004076, 0.39995924],\n",
       "       [0.96198068, 0.03801932],\n",
       "       [0.17505198, 0.82494802],\n",
       "       [0.76961082, 0.23038918],\n",
       "       [0.92091632, 0.07908368],\n",
       "       [0.06327949, 0.93672051],\n",
       "       [0.84082757, 0.15917243],\n",
       "       [0.71729632, 0.28270368],\n",
       "       [0.47345375, 0.52654625],\n",
       "       [0.87275074, 0.12724926],\n",
       "       [0.90004591, 0.09995409],\n",
       "       [0.77737212, 0.22262788],\n",
       "       [0.76212463, 0.23787537],\n",
       "       [0.88284088, 0.11715912],\n",
       "       [0.6372304 , 0.3627696 ],\n",
       "       [0.94939905, 0.05060095],\n",
       "       [0.63143812, 0.36856188],\n",
       "       [0.44775469, 0.55224531],\n",
       "       [0.3659526 , 0.6340474 ],\n",
       "       [0.73201276, 0.26798724],\n",
       "       [0.69085582, 0.30914418],\n",
       "       [0.92020715, 0.07979285],\n",
       "       [0.93597537, 0.06402463],\n",
       "       [0.93280622, 0.06719378],\n",
       "       [0.12202361, 0.87797639],\n",
       "       [0.94725871, 0.05274129],\n",
       "       [0.78547507, 0.21452493],\n",
       "       [0.51591211, 0.48408789],\n",
       "       [0.84699284, 0.15300716],\n",
       "       [0.85369837, 0.14630163],\n",
       "       [0.86320337, 0.13679663],\n",
       "       [0.65333322, 0.34666678],\n",
       "       [0.8480019 , 0.1519981 ],\n",
       "       [0.74200504, 0.25799496],\n",
       "       [0.67360784, 0.32639216],\n",
       "       [0.70179217, 0.29820783],\n",
       "       [0.93578869, 0.06421131],\n",
       "       [0.95862924, 0.04137076],\n",
       "       [0.77999181, 0.22000819],\n",
       "       [0.72496292, 0.27503708],\n",
       "       [0.72288705, 0.27711295],\n",
       "       [0.4594132 , 0.5405868 ],\n",
       "       [0.91068745, 0.08931255],\n",
       "       [0.80674932, 0.19325068],\n",
       "       [0.57011481, 0.42988519],\n",
       "       [0.8316395 , 0.1683605 ],\n",
       "       [0.92807799, 0.07192201],\n",
       "       [0.94956813, 0.05043187],\n",
       "       [0.40332897, 0.59667103],\n",
       "       [0.9578033 , 0.0421967 ],\n",
       "       [0.76716368, 0.23283632],\n",
       "       [0.79300357, 0.20699643],\n",
       "       [0.33481566, 0.66518434],\n",
       "       [0.93790454, 0.06209546],\n",
       "       [0.69657386, 0.30342614],\n",
       "       [0.15814645, 0.84185355],\n",
       "       [0.68151694, 0.31848306],\n",
       "       [0.98501231, 0.01498769],\n",
       "       [0.92924789, 0.07075211],\n",
       "       [0.89734886, 0.10265114],\n",
       "       [0.53233793, 0.46766207],\n",
       "       [0.95096846, 0.04903154],\n",
       "       [0.94370323, 0.05629677],\n",
       "       [0.93300414, 0.06699586],\n",
       "       [0.83703575, 0.16296425],\n",
       "       [0.82568832, 0.17431168],\n",
       "       [0.78037265, 0.21962735],\n",
       "       [0.92460522, 0.07539478],\n",
       "       [0.92728554, 0.07271446],\n",
       "       [0.47409982, 0.52590018],\n",
       "       [0.96325915, 0.03674085],\n",
       "       [0.70406806, 0.29593194],\n",
       "       [0.87162086, 0.12837914],\n",
       "       [0.54014832, 0.45985168],\n",
       "       [0.96744274, 0.03255726],\n",
       "       [0.96750416, 0.03249584],\n",
       "       [0.66915265, 0.33084735],\n",
       "       [0.96433532, 0.03566468],\n",
       "       [0.84950323, 0.15049677],\n",
       "       [0.64968742, 0.35031258],\n",
       "       [0.19023474, 0.80976526],\n",
       "       [0.90668629, 0.09331371],\n",
       "       [0.86884888, 0.13115112],\n",
       "       [0.92448876, 0.07551124],\n",
       "       [0.92921586, 0.07078414],\n",
       "       [0.90967115, 0.09032885],\n",
       "       [0.63643547, 0.36356453],\n",
       "       [0.84010031, 0.15989969],\n",
       "       [0.8789583 , 0.1210417 ],\n",
       "       [0.93053552, 0.06946448],\n",
       "       [0.92481222, 0.07518778],\n",
       "       [0.95653536, 0.04346464],\n",
       "       [0.84999527, 0.15000473],\n",
       "       [0.72333059, 0.27666941],\n",
       "       [0.58390381, 0.41609619],\n",
       "       [0.83500578, 0.16499422],\n",
       "       [0.57180559, 0.42819441],\n",
       "       [0.64273373, 0.35726627],\n",
       "       [0.87001202, 0.12998798],\n",
       "       [0.93444783, 0.06555217],\n",
       "       [0.44032895, 0.55967105],\n",
       "       [0.46250985, 0.53749015],\n",
       "       [0.59445999, 0.40554001],\n",
       "       [0.76997733, 0.23002267],\n",
       "       [0.98558121, 0.01441879],\n",
       "       [0.94208645, 0.05791355],\n",
       "       [0.9049715 , 0.0950285 ],\n",
       "       [0.92315376, 0.07684624],\n",
       "       [0.72185547, 0.27814453],\n",
       "       [0.40596248, 0.59403752],\n",
       "       [0.80228773, 0.19771227],\n",
       "       [0.15104009, 0.84895991],\n",
       "       [0.12543046, 0.87456954],\n",
       "       [0.94435926, 0.05564074],\n",
       "       [0.94703891, 0.05296109],\n",
       "       [0.80356216, 0.19643784],\n",
       "       [0.11564285, 0.88435715],\n",
       "       [0.89771009, 0.10228991],\n",
       "       [0.14903246, 0.85096754],\n",
       "       [0.71472028, 0.28527972],\n",
       "       [0.87075837, 0.12924163],\n",
       "       [0.64940009, 0.35059991],\n",
       "       [0.89124576, 0.10875424],\n",
       "       [0.87074155, 0.12925845],\n",
       "       [0.31493263, 0.68506737],\n",
       "       [0.93683737, 0.06316263],\n",
       "       [0.64247762, 0.35752238],\n",
       "       [0.96691447, 0.03308553],\n",
       "       [0.78997825, 0.21002175],\n",
       "       [0.54387847, 0.45612153],\n",
       "       [0.70253712, 0.29746288],\n",
       "       [0.95889044, 0.04110956],\n",
       "       [0.91276028, 0.08723972],\n",
       "       [0.96618343, 0.03381657],\n",
       "       [0.78210093, 0.21789907],\n",
       "       [0.91397877, 0.08602123],\n",
       "       [0.8663428 , 0.1336572 ],\n",
       "       [0.90594798, 0.09405202],\n",
       "       [0.6038254 , 0.3961746 ],\n",
       "       [0.80112119, 0.19887881],\n",
       "       [0.93701573, 0.06298427],\n",
       "       [0.80630016, 0.19369984],\n",
       "       [0.66192974, 0.33807026],\n",
       "       [0.6969873 , 0.3030127 ],\n",
       "       [0.94212742, 0.05787258],\n",
       "       [0.23951602, 0.76048398],\n",
       "       [0.48993812, 0.51006188],\n",
       "       [0.79136218, 0.20863782],\n",
       "       [0.27643908, 0.72356092],\n",
       "       [0.90542331, 0.09457669],\n",
       "       [0.48633463, 0.51366537],\n",
       "       [0.96386242, 0.03613758],\n",
       "       [0.91696811, 0.08303189],\n",
       "       [0.88036203, 0.11963797],\n",
       "       [0.6908426 , 0.3091574 ],\n",
       "       [0.87992546, 0.12007454],\n",
       "       [0.21511287, 0.78488713],\n",
       "       [0.6665652 , 0.3334348 ],\n",
       "       [0.90804252, 0.09195748],\n",
       "       [0.91366445, 0.08633555],\n",
       "       [0.03623249, 0.96376751],\n",
       "       [0.83270429, 0.16729571],\n",
       "       [0.94094561, 0.05905439],\n",
       "       [0.06004165, 0.93995835],\n",
       "       [0.91447158, 0.08552842],\n",
       "       [0.30992715, 0.69007285],\n",
       "       [0.67095663, 0.32904337],\n",
       "       [0.69280116, 0.30719884],\n",
       "       [0.53660658, 0.46339342],\n",
       "       [0.83387045, 0.16612955],\n",
       "       [0.77610858, 0.22389142],\n",
       "       [0.24321392, 0.75678608],\n",
       "       [0.923577  , 0.076423  ],\n",
       "       [0.4648406 , 0.5351594 ],\n",
       "       [0.95207404, 0.04792596],\n",
       "       [0.56953855, 0.43046145],\n",
       "       [0.92935092, 0.07064908],\n",
       "       [0.46583569, 0.53416431],\n",
       "       [0.95144814, 0.04855186],\n",
       "       [0.77955288, 0.22044712],\n",
       "       [0.71140054, 0.28859946],\n",
       "       [0.54764314, 0.45235686],\n",
       "       [0.23075726, 0.76924274],\n",
       "       [0.82552518, 0.17447482],\n",
       "       [0.76029919, 0.23970081],\n",
       "       [0.94051561, 0.05948439],\n",
       "       [0.27022557, 0.72977443],\n",
       "       [0.95873077, 0.04126923],\n",
       "       [0.83953488, 0.16046512],\n",
       "       [0.89258589, 0.10741411],\n",
       "       [0.86312694, 0.13687306],\n",
       "       [0.94624022, 0.05375978],\n",
       "       [0.88442975, 0.11557025],\n",
       "       [0.33290613, 0.66709387],\n",
       "       [0.41926135, 0.58073865],\n",
       "       [0.75634718, 0.24365282],\n",
       "       [0.76555331, 0.23444669],\n",
       "       [0.89637008, 0.10362992],\n",
       "       [0.7335082 , 0.2664918 ],\n",
       "       [0.84020505, 0.15979495],\n",
       "       [0.82447826, 0.17552174],\n",
       "       [0.51688504, 0.48311496],\n",
       "       [0.25439304, 0.74560696],\n",
       "       [0.72547145, 0.27452855],\n",
       "       [0.57928163, 0.42071837],\n",
       "       [0.83408182, 0.16591818],\n",
       "       [0.83456133, 0.16543867],\n",
       "       [0.88350451, 0.11649549],\n",
       "       [0.9412762 , 0.0587238 ],\n",
       "       [0.93341534, 0.06658466],\n",
       "       [0.8704382 , 0.1295618 ],\n",
       "       [0.71788705, 0.28211295],\n",
       "       [0.70021448, 0.29978552],\n",
       "       [0.60435969, 0.39564031],\n",
       "       [0.27542754, 0.72457246],\n",
       "       [0.82934148, 0.17065852],\n",
       "       [0.80843933, 0.19156067],\n",
       "       [0.9432608 , 0.0567392 ],\n",
       "       [0.87466202, 0.12533798],\n",
       "       [0.79219039, 0.20780961],\n",
       "       [0.83054313, 0.16945687],\n",
       "       [0.95811741, 0.04188259],\n",
       "       [0.51717466, 0.48282534],\n",
       "       [0.65521221, 0.34478779],\n",
       "       [0.52557829, 0.47442171],\n",
       "       [0.16411785, 0.83588215],\n",
       "       [0.96146786, 0.03853214],\n",
       "       [0.89738096, 0.10261904],\n",
       "       [0.56150532, 0.43849468],\n",
       "       [0.31458211, 0.68541789],\n",
       "       [0.50062052, 0.49937948],\n",
       "       [0.72222008, 0.27777992],\n",
       "       [0.79512076, 0.20487924],\n",
       "       [0.50065375, 0.49934625],\n",
       "       [0.85463465, 0.14536535],\n",
       "       [0.76917658, 0.23082342],\n",
       "       [0.48438986, 0.51561014],\n",
       "       [0.85960015, 0.14039985],\n",
       "       [0.67486939, 0.32513061],\n",
       "       [0.46417123, 0.53582877],\n",
       "       [0.80458321, 0.19541679],\n",
       "       [0.83632546, 0.16367454],\n",
       "       [0.49993463, 0.50006537],\n",
       "       [0.82462345, 0.17537655]])"
      ]
     },
     "execution_count": 65,
     "metadata": {},
     "output_type": "execute_result"
    }
   ],
   "source": [
    "clf.predict_proba(X_test)"
   ]
  },
  {
   "cell_type": "code",
   "execution_count": 66,
   "metadata": {},
   "outputs": [
    {
     "data": {
      "text/plain": [
       "0.7052238805970149"
      ]
     },
     "execution_count": 66,
     "metadata": {},
     "output_type": "execute_result"
    }
   ],
   "source": [
    "clf.score(X_test, y_test)"
   ]
  },
  {
   "cell_type": "markdown",
   "metadata": {},
   "source": [
    "Prezycja predykcji wyniosła około ~70% zobaczmy co możemy zrobić\n",
    "***"
   ]
  },
  {
   "cell_type": "code",
   "execution_count": 67,
   "metadata": {},
   "outputs": [],
   "source": [
    "parameter_space = {\n",
    "    'hidden_layer_sizes': [(50,50,50), (50,100,50), (100,)],\n",
    "    'activation': ['tanh', 'relu'],\n",
    "    'solver': ['sgd', 'adam'],\n",
    "    'alpha': [0.0001, 0.05],\n",
    "    'learning_rate': ['constant','adaptive'],\n",
    "}"
   ]
  },
  {
   "cell_type": "code",
   "execution_count": 69,
   "metadata": {},
   "outputs": [
    {
     "data": {
      "text/plain": [
       "GridSearchCV(cv=3, error_score='raise-deprecating',\n",
       "             estimator=MLPClassifier(activation='relu', alpha=0.0001,\n",
       "                                     batch_size='auto', beta_1=0.9,\n",
       "                                     beta_2=0.999, early_stopping=False,\n",
       "                                     epsilon=1e-08, hidden_layer_sizes=(100,),\n",
       "                                     learning_rate='constant',\n",
       "                                     learning_rate_init=0.001, max_iter=1000,\n",
       "                                     momentum=0.9, n_iter_no_change=10,\n",
       "                                     nesterovs_momentum=True, power_t=0.5,\n",
       "                                     random_st...\n",
       "                                     solver='adam', tol=0.0001,\n",
       "                                     validation_fraction=0.1, verbose=False,\n",
       "                                     warm_start=False),\n",
       "             iid='warn', n_jobs=-1,\n",
       "             param_grid={'activation': ['tanh', 'relu'],\n",
       "                         'alpha': [0.0001, 0.05],\n",
       "                         'hidden_layer_sizes': [(50, 50, 50), (50, 100, 50),\n",
       "                                                (100,)],\n",
       "                         'learning_rate': ['constant', 'adaptive'],\n",
       "                         'solver': ['sgd', 'adam']},\n",
       "             pre_dispatch='2*n_jobs', refit=True, return_train_score=False,\n",
       "             scoring=None, verbose=0)"
      ]
     },
     "execution_count": 69,
     "metadata": {},
     "output_type": "execute_result"
    }
   ],
   "source": [
    "from sklearn.model_selection import GridSearchCV\n",
    "\n",
    "gridCV = GridSearchCV(clf, parameter_space, n_jobs=-1, cv=3)\n",
    "gridCV.fit(X_train, y_train)"
   ]
  },
  {
   "cell_type": "code",
   "execution_count": 70,
   "metadata": {},
   "outputs": [
    {
     "name": "stdout",
     "output_type": "stream",
     "text": [
      "Best parameters found:\n",
      " {'activation': 'relu', 'alpha': 0.05, 'hidden_layer_sizes': (100,), 'learning_rate': 'constant', 'solver': 'adam'}\n",
      "0.631 (+/-0.022) for {'activation': 'tanh', 'alpha': 0.0001, 'hidden_layer_sizes': (50, 50, 50), 'learning_rate': 'constant', 'solver': 'sgd'}\n",
      "0.652 (+/-0.083) for {'activation': 'tanh', 'alpha': 0.0001, 'hidden_layer_sizes': (50, 50, 50), 'learning_rate': 'constant', 'solver': 'adam'}\n",
      "0.629 (+/-0.026) for {'activation': 'tanh', 'alpha': 0.0001, 'hidden_layer_sizes': (50, 50, 50), 'learning_rate': 'adaptive', 'solver': 'sgd'}\n",
      "0.652 (+/-0.083) for {'activation': 'tanh', 'alpha': 0.0001, 'hidden_layer_sizes': (50, 50, 50), 'learning_rate': 'adaptive', 'solver': 'adam'}\n",
      "0.637 (+/-0.004) for {'activation': 'tanh', 'alpha': 0.0001, 'hidden_layer_sizes': (50, 100, 50), 'learning_rate': 'constant', 'solver': 'sgd'}\n",
      "0.684 (+/-0.107) for {'activation': 'tanh', 'alpha': 0.0001, 'hidden_layer_sizes': (50, 100, 50), 'learning_rate': 'constant', 'solver': 'adam'}\n",
      "0.637 (+/-0.004) for {'activation': 'tanh', 'alpha': 0.0001, 'hidden_layer_sizes': (50, 100, 50), 'learning_rate': 'adaptive', 'solver': 'sgd'}\n",
      "0.684 (+/-0.107) for {'activation': 'tanh', 'alpha': 0.0001, 'hidden_layer_sizes': (50, 100, 50), 'learning_rate': 'adaptive', 'solver': 'adam'}\n",
      "0.632 (+/-0.018) for {'activation': 'tanh', 'alpha': 0.0001, 'hidden_layer_sizes': (100,), 'learning_rate': 'constant', 'solver': 'sgd'}\n",
      "0.674 (+/-0.067) for {'activation': 'tanh', 'alpha': 0.0001, 'hidden_layer_sizes': (100,), 'learning_rate': 'constant', 'solver': 'adam'}\n",
      "0.636 (+/-0.015) for {'activation': 'tanh', 'alpha': 0.0001, 'hidden_layer_sizes': (100,), 'learning_rate': 'adaptive', 'solver': 'sgd'}\n",
      "0.674 (+/-0.067) for {'activation': 'tanh', 'alpha': 0.0001, 'hidden_layer_sizes': (100,), 'learning_rate': 'adaptive', 'solver': 'adam'}\n",
      "0.631 (+/-0.022) for {'activation': 'tanh', 'alpha': 0.05, 'hidden_layer_sizes': (50, 50, 50), 'learning_rate': 'constant', 'solver': 'sgd'}\n",
      "0.685 (+/-0.043) for {'activation': 'tanh', 'alpha': 0.05, 'hidden_layer_sizes': (50, 50, 50), 'learning_rate': 'constant', 'solver': 'adam'}\n",
      "0.629 (+/-0.026) for {'activation': 'tanh', 'alpha': 0.05, 'hidden_layer_sizes': (50, 50, 50), 'learning_rate': 'adaptive', 'solver': 'sgd'}\n",
      "0.685 (+/-0.043) for {'activation': 'tanh', 'alpha': 0.05, 'hidden_layer_sizes': (50, 50, 50), 'learning_rate': 'adaptive', 'solver': 'adam'}\n",
      "0.620 (+/-0.047) for {'activation': 'tanh', 'alpha': 0.05, 'hidden_layer_sizes': (50, 100, 50), 'learning_rate': 'constant', 'solver': 'sgd'}\n",
      "0.713 (+/-0.122) for {'activation': 'tanh', 'alpha': 0.05, 'hidden_layer_sizes': (50, 100, 50), 'learning_rate': 'constant', 'solver': 'adam'}\n",
      "0.639 (+/-0.008) for {'activation': 'tanh', 'alpha': 0.05, 'hidden_layer_sizes': (50, 100, 50), 'learning_rate': 'adaptive', 'solver': 'sgd'}\n",
      "0.713 (+/-0.122) for {'activation': 'tanh', 'alpha': 0.05, 'hidden_layer_sizes': (50, 100, 50), 'learning_rate': 'adaptive', 'solver': 'adam'}\n",
      "0.636 (+/-0.023) for {'activation': 'tanh', 'alpha': 0.05, 'hidden_layer_sizes': (100,), 'learning_rate': 'constant', 'solver': 'sgd'}\n",
      "0.692 (+/-0.022) for {'activation': 'tanh', 'alpha': 0.05, 'hidden_layer_sizes': (100,), 'learning_rate': 'constant', 'solver': 'adam'}\n",
      "0.628 (+/-0.004) for {'activation': 'tanh', 'alpha': 0.05, 'hidden_layer_sizes': (100,), 'learning_rate': 'adaptive', 'solver': 'sgd'}\n",
      "0.692 (+/-0.022) for {'activation': 'tanh', 'alpha': 0.05, 'hidden_layer_sizes': (100,), 'learning_rate': 'adaptive', 'solver': 'adam'}\n",
      "0.620 (+/-0.081) for {'activation': 'relu', 'alpha': 0.0001, 'hidden_layer_sizes': (50, 50, 50), 'learning_rate': 'constant', 'solver': 'sgd'}\n",
      "0.673 (+/-0.058) for {'activation': 'relu', 'alpha': 0.0001, 'hidden_layer_sizes': (50, 50, 50), 'learning_rate': 'constant', 'solver': 'adam'}\n",
      "0.632 (+/-0.058) for {'activation': 'relu', 'alpha': 0.0001, 'hidden_layer_sizes': (50, 50, 50), 'learning_rate': 'adaptive', 'solver': 'sgd'}\n",
      "0.673 (+/-0.058) for {'activation': 'relu', 'alpha': 0.0001, 'hidden_layer_sizes': (50, 50, 50), 'learning_rate': 'adaptive', 'solver': 'adam'}\n",
      "0.660 (+/-0.070) for {'activation': 'relu', 'alpha': 0.0001, 'hidden_layer_sizes': (50, 100, 50), 'learning_rate': 'constant', 'solver': 'sgd'}\n",
      "0.689 (+/-0.031) for {'activation': 'relu', 'alpha': 0.0001, 'hidden_layer_sizes': (50, 100, 50), 'learning_rate': 'constant', 'solver': 'adam'}\n",
      "0.658 (+/-0.076) for {'activation': 'relu', 'alpha': 0.0001, 'hidden_layer_sizes': (50, 100, 50), 'learning_rate': 'adaptive', 'solver': 'sgd'}\n",
      "0.689 (+/-0.031) for {'activation': 'relu', 'alpha': 0.0001, 'hidden_layer_sizes': (50, 100, 50), 'learning_rate': 'adaptive', 'solver': 'adam'}\n",
      "0.661 (+/-0.032) for {'activation': 'relu', 'alpha': 0.0001, 'hidden_layer_sizes': (100,), 'learning_rate': 'constant', 'solver': 'sgd'}\n",
      "0.719 (+/-0.051) for {'activation': 'relu', 'alpha': 0.0001, 'hidden_layer_sizes': (100,), 'learning_rate': 'constant', 'solver': 'adam'}\n",
      "0.657 (+/-0.033) for {'activation': 'relu', 'alpha': 0.0001, 'hidden_layer_sizes': (100,), 'learning_rate': 'adaptive', 'solver': 'sgd'}\n",
      "0.719 (+/-0.051) for {'activation': 'relu', 'alpha': 0.0001, 'hidden_layer_sizes': (100,), 'learning_rate': 'adaptive', 'solver': 'adam'}\n",
      "0.631 (+/-0.035) for {'activation': 'relu', 'alpha': 0.05, 'hidden_layer_sizes': (50, 50, 50), 'learning_rate': 'constant', 'solver': 'sgd'}\n",
      "0.674 (+/-0.058) for {'activation': 'relu', 'alpha': 0.05, 'hidden_layer_sizes': (50, 50, 50), 'learning_rate': 'constant', 'solver': 'adam'}\n",
      "0.632 (+/-0.046) for {'activation': 'relu', 'alpha': 0.05, 'hidden_layer_sizes': (50, 50, 50), 'learning_rate': 'adaptive', 'solver': 'sgd'}\n",
      "0.674 (+/-0.058) for {'activation': 'relu', 'alpha': 0.05, 'hidden_layer_sizes': (50, 50, 50), 'learning_rate': 'adaptive', 'solver': 'adam'}\n",
      "0.626 (+/-0.016) for {'activation': 'relu', 'alpha': 0.05, 'hidden_layer_sizes': (50, 100, 50), 'learning_rate': 'constant', 'solver': 'sgd'}\n",
      "0.661 (+/-0.010) for {'activation': 'relu', 'alpha': 0.05, 'hidden_layer_sizes': (50, 100, 50), 'learning_rate': 'constant', 'solver': 'adam'}\n",
      "0.657 (+/-0.090) for {'activation': 'relu', 'alpha': 0.05, 'hidden_layer_sizes': (50, 100, 50), 'learning_rate': 'adaptive', 'solver': 'sgd'}\n",
      "0.661 (+/-0.010) for {'activation': 'relu', 'alpha': 0.05, 'hidden_layer_sizes': (50, 100, 50), 'learning_rate': 'adaptive', 'solver': 'adam'}\n",
      "0.665 (+/-0.036) for {'activation': 'relu', 'alpha': 0.05, 'hidden_layer_sizes': (100,), 'learning_rate': 'constant', 'solver': 'sgd'}\n",
      "0.726 (+/-0.046) for {'activation': 'relu', 'alpha': 0.05, 'hidden_layer_sizes': (100,), 'learning_rate': 'constant', 'solver': 'adam'}\n",
      "0.673 (+/-0.030) for {'activation': 'relu', 'alpha': 0.05, 'hidden_layer_sizes': (100,), 'learning_rate': 'adaptive', 'solver': 'sgd'}\n",
      "0.726 (+/-0.046) for {'activation': 'relu', 'alpha': 0.05, 'hidden_layer_sizes': (100,), 'learning_rate': 'adaptive', 'solver': 'adam'}\n"
     ]
    }
   ],
   "source": [
    "# Best paramete set\n",
    "print('Best parameters found:\\n', gridCV.best_params_)\n",
    "\n",
    "# All results\n",
    "means = gridCV.cv_results_['mean_test_score']\n",
    "stds = gridCV.cv_results_['std_test_score']\n",
    "for mean, std, params in zip(means, stds, gridCV.cv_results_['params']):\n",
    "    print(\"%0.3f (+/-%0.03f) for %r\" % (mean, std * 2, params))"
   ]
  },
  {
   "cell_type": "code",
   "execution_count": 71,
   "metadata": {},
   "outputs": [
    {
     "name": "stdout",
     "output_type": "stream",
     "text": [
      "Results on the test set:\n",
      "              precision    recall  f1-score   support\n",
      "\n",
      "           0       0.67      0.96      0.79       153\n",
      "           1       0.88      0.37      0.52       115\n",
      "\n",
      "    accuracy                           0.71       268\n",
      "   macro avg       0.77      0.67      0.66       268\n",
      "weighted avg       0.76      0.71      0.68       268\n",
      "\n"
     ]
    }
   ],
   "source": [
    "y_true, y_pred = y_test , gridCV.predict(X_test)\n",
    "\n",
    "from sklearn.metrics import classification_report\n",
    "print('Results on the test set:')\n",
    "print(classification_report(y_true, y_pred))"
   ]
  },
  {
   "cell_type": "markdown",
   "metadata": {},
   "source": [
    "Udało się podbić precyzję do 88% co według polecenia można uznać, za dobry wynik\n",
    "***"
   ]
  },
  {
   "cell_type": "code",
   "execution_count": null,
   "metadata": {},
   "outputs": [],
   "source": []
  }
 ],
 "metadata": {
  "kernelspec": {
   "display_name": "Python 3",
   "language": "python",
   "name": "python3"
  },
  "language_info": {
   "codemirror_mode": {
    "name": "ipython",
    "version": 3
   },
   "file_extension": ".py",
   "mimetype": "text/x-python",
   "name": "python",
   "nbconvert_exporter": "python",
   "pygments_lexer": "ipython3",
   "version": "3.7.4"
  }
 },
 "nbformat": 4,
 "nbformat_minor": 2
}
